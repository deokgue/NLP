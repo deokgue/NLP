{
 "cells": [
  {
   "cell_type": "markdown",
   "metadata": {},
   "source": [
    "# 모두를 위한 딥러닝 : Pytorch\n",
    "## Lecture 11-2 - RNN charseq\n",
    "----\n",
    "본 문서는 모두를 위한 딥러닝 강의를 듣고 공부 목적으로 작성되었습니다."
   ]
  },
  {
   "cell_type": "markdown",
   "metadata": {},
   "source": [
    "### RNN의 특징\n",
    "------\n",
    "* RNN은 활성화함수로 주로 sigmoid나 tahh 함수가 쓰인다. 이는 Relu를 쓰게 되면 계속해서 양수값이 여러번 곱해지며, 기울기 폭발이 발생할 가능성이 높기 때문이다.  \n",
    "* one-hot encoding을 사용하는 주된 이유는 크기가 같기 때문이다. 각각의 문자에 인덱스로 의미를 부여하면, 문자 하나하나에 다른 크기가 배정되는 것이므로, 의미가 부여될 수 있기 때문이다."
   ]
  },
  {
   "cell_type": "code",
   "execution_count": 9,
   "metadata": {},
   "outputs": [],
   "source": [
    "import torch\n",
    "import torch.nn as nn\n",
    "import torch.optim as optim\n",
    "import numpy as np"
   ]
  },
  {
   "cell_type": "code",
   "execution_count": 2,
   "metadata": {},
   "outputs": [
    {
     "data": {
      "text/plain": [
       "<torch._C.Generator at 0x1dce23a5390>"
      ]
     },
     "execution_count": 2,
     "metadata": {},
     "output_type": "execute_result"
    }
   ],
   "source": [
    "torch.manual_seed(0)"
   ]
  },
  {
   "cell_type": "code",
   "execution_count": 3,
   "metadata": {},
   "outputs": [],
   "source": [
    "sample = ' if you want you'"
   ]
  },
  {
   "cell_type": "code",
   "execution_count": 4,
   "metadata": {},
   "outputs": [
    {
     "name": "stdout",
     "output_type": "stream",
     "text": [
      "{'n': 0, 'u': 1, 'y': 2, 't': 3, ' ': 4, 'w': 5, 'f': 6, 'a': 7, 'o': 8, 'i': 9}\n"
     ]
    }
   ],
   "source": [
    "char_set = list(set(sample))\n",
    "char_dic = {c : i for i,c in enumerate(char_set)}\n",
    "print(char_dic)"
   ]
  },
  {
   "cell_type": "code",
   "execution_count": 5,
   "metadata": {},
   "outputs": [],
   "source": [
    "dic_size = len(char_dic)\n",
    "hidden_size = len(char_dic)\n",
    "learning_rate = 0.1"
   ]
  },
  {
   "cell_type": "code",
   "execution_count": 13,
   "metadata": {},
   "outputs": [],
   "source": [
    "sample_idx = [char_dic[c] for c in sample]\n",
    "x_data = sample_idx[:-1]\n",
    "x_one_hot = [np.eye(dic_size)[x] for x in x_data]\n",
    "y_data = sample_idx[1:]"
   ]
  },
  {
   "cell_type": "code",
   "execution_count": 14,
   "metadata": {},
   "outputs": [
    {
     "name": "stdout",
     "output_type": "stream",
     "text": [
      "torch.Size([15, 10])\n",
      "torch.Size([15])\n"
     ]
    }
   ],
   "source": [
    "X = torch.FloatTensor(x_one_hot)\n",
    "Y = torch.LongTensor(y_data)\n",
    "print(X.shape)\n",
    "print(Y.shape)"
   ]
  },
  {
   "cell_type": "code",
   "execution_count": 8,
   "metadata": {},
   "outputs": [],
   "source": [
    "rnn = torch.nn.RNN(dic_size, hidden_size, batch_first=True)"
   ]
  },
  {
   "cell_type": "code",
   "execution_count": 10,
   "metadata": {},
   "outputs": [],
   "source": [
    "criterion = nn.CrossEntropyLoss()\n",
    "optimizer = optim.Adam(rnn.parameters(), lr=learning_rate)"
   ]
  },
  {
   "cell_type": "code",
   "execution_count": 17,
   "metadata": {},
   "outputs": [
    {
     "name": "stdout",
     "output_type": "stream",
     "text": [
      "0 loss:  1.9885978698730469 prediction:  tensor([5, 6, 4, 5, 8, 1, 4, 5, 1, 4, 5, 7, 7, 8, 1]) true Y:  [9, 6, 4, 2, 8, 1, 4, 5, 7, 0, 3, 4, 2, 8, 1] prediction str:  wf wou wu waaou\n",
      "1 loss:  1.7345199584960938 prediction:  tensor([2, 6, 4, 5, 8, 1, 4, 5, 1, 4, 2, 2, 2, 8, 1]) true Y:  [9, 6, 4, 2, 8, 1, 4, 5, 7, 0, 3, 4, 2, 8, 1] prediction str:  yf wou wu yyyou\n",
      "2 loss:  1.5653952360153198 prediction:  tensor([2, 6, 4, 2, 8, 1, 4, 5, 7, 4, 3, 4, 5, 8, 1]) true Y:  [9, 6, 4, 2, 8, 1, 4, 5, 7, 0, 3, 4, 2, 8, 1] prediction str:  yf you wa t wou\n",
      "3 loss:  1.4270879030227661 prediction:  tensor([2, 6, 4, 2, 8, 1, 4, 5, 7, 4, 3, 4, 2, 8, 1]) true Y:  [9, 6, 4, 2, 8, 1, 4, 5, 7, 0, 3, 4, 2, 8, 1] prediction str:  yf you wa t you\n",
      "4 loss:  1.3238537311553955 prediction:  tensor([2, 6, 4, 2, 8, 1, 4, 5, 7, 4, 3, 4, 2, 8, 1]) true Y:  [9, 6, 4, 2, 8, 1, 4, 5, 7, 0, 3, 4, 2, 8, 1] prediction str:  yf you wa t you\n",
      "5 loss:  1.2394696474075317 prediction:  tensor([2, 6, 4, 2, 8, 1, 4, 5, 7, 4, 3, 4, 2, 8, 1]) true Y:  [9, 6, 4, 2, 8, 1, 4, 5, 7, 0, 3, 4, 2, 8, 1] prediction str:  yf you wa t you\n",
      "6 loss:  1.1638137102127075 prediction:  tensor([2, 6, 4, 2, 8, 1, 4, 5, 7, 0, 3, 4, 2, 8, 1]) true Y:  [9, 6, 4, 2, 8, 1, 4, 5, 7, 0, 3, 4, 2, 8, 1] prediction str:  yf you want you\n",
      "7 loss:  1.1209405660629272 prediction:  tensor([2, 6, 4, 2, 8, 1, 4, 5, 7, 0, 3, 4, 2, 8, 1]) true Y:  [9, 6, 4, 2, 8, 1, 4, 5, 7, 0, 3, 4, 2, 8, 1] prediction str:  yf you want you\n",
      "8 loss:  1.0825269222259521 prediction:  tensor([9, 6, 4, 2, 8, 1, 4, 5, 7, 0, 3, 4, 2, 8, 1]) true Y:  [9, 6, 4, 2, 8, 1, 4, 5, 7, 0, 3, 4, 2, 8, 1] prediction str:  if you want you\n",
      "9 loss:  1.0385669469833374 prediction:  tensor([9, 6, 4, 2, 8, 1, 4, 5, 7, 0, 3, 4, 2, 8, 1]) true Y:  [9, 6, 4, 2, 8, 1, 4, 5, 7, 0, 3, 4, 2, 8, 1] prediction str:  if you want you\n",
      "10 loss:  1.0021421909332275 prediction:  tensor([9, 6, 4, 2, 8, 1, 4, 5, 7, 0, 3, 4, 2, 8, 1]) true Y:  [9, 6, 4, 2, 8, 1, 4, 5, 7, 0, 3, 4, 2, 8, 1] prediction str:  if you want you\n",
      "11 loss:  0.9700418710708618 prediction:  tensor([9, 6, 4, 2, 8, 1, 4, 5, 7, 0, 3, 4, 2, 8, 1]) true Y:  [9, 6, 4, 2, 8, 1, 4, 5, 7, 0, 3, 4, 2, 8, 1] prediction str:  if you want you\n",
      "12 loss:  0.9500271081924438 prediction:  tensor([9, 6, 4, 2, 8, 1, 4, 5, 7, 0, 3, 4, 2, 8, 1]) true Y:  [9, 6, 4, 2, 8, 1, 4, 5, 7, 0, 3, 4, 2, 8, 1] prediction str:  if you want you\n",
      "13 loss:  0.933070182800293 prediction:  tensor([9, 6, 4, 2, 8, 1, 4, 5, 7, 0, 3, 4, 2, 8, 1]) true Y:  [9, 6, 4, 2, 8, 1, 4, 5, 7, 0, 3, 4, 2, 8, 1] prediction str:  if you want you\n",
      "14 loss:  0.9200102090835571 prediction:  tensor([9, 6, 4, 2, 8, 1, 4, 5, 7, 0, 3, 4, 2, 8, 1]) true Y:  [9, 6, 4, 2, 8, 1, 4, 5, 7, 0, 3, 4, 2, 8, 1] prediction str:  if you want you\n",
      "15 loss:  0.9109026789665222 prediction:  tensor([9, 6, 4, 2, 8, 1, 4, 5, 7, 0, 3, 4, 2, 8, 1]) true Y:  [9, 6, 4, 2, 8, 1, 4, 5, 7, 0, 3, 4, 2, 8, 1] prediction str:  if you want you\n",
      "16 loss:  0.9025285243988037 prediction:  tensor([9, 6, 4, 2, 8, 1, 4, 5, 7, 0, 3, 4, 2, 8, 1]) true Y:  [9, 6, 4, 2, 8, 1, 4, 5, 7, 0, 3, 4, 2, 8, 1] prediction str:  if you want you\n",
      "17 loss:  0.8931716680526733 prediction:  tensor([9, 6, 4, 2, 8, 1, 4, 5, 7, 0, 3, 4, 2, 8, 1]) true Y:  [9, 6, 4, 2, 8, 1, 4, 5, 7, 0, 3, 4, 2, 8, 1] prediction str:  if you want you\n",
      "18 loss:  0.8825131058692932 prediction:  tensor([9, 6, 4, 2, 8, 1, 4, 5, 7, 0, 3, 4, 2, 8, 1]) true Y:  [9, 6, 4, 2, 8, 1, 4, 5, 7, 0, 3, 4, 2, 8, 1] prediction str:  if you want you\n",
      "19 loss:  0.8717759847640991 prediction:  tensor([9, 6, 4, 2, 8, 1, 4, 5, 7, 0, 3, 4, 2, 8, 1]) true Y:  [9, 6, 4, 2, 8, 1, 4, 5, 7, 0, 3, 4, 2, 8, 1] prediction str:  if you want you\n",
      "20 loss:  0.8625741600990295 prediction:  tensor([9, 6, 4, 2, 8, 1, 4, 5, 7, 0, 3, 4, 2, 8, 1]) true Y:  [9, 6, 4, 2, 8, 1, 4, 5, 7, 0, 3, 4, 2, 8, 1] prediction str:  if you want you\n",
      "21 loss:  0.8555721044540405 prediction:  tensor([9, 6, 4, 2, 8, 1, 4, 5, 7, 0, 3, 4, 2, 8, 1]) true Y:  [9, 6, 4, 2, 8, 1, 4, 5, 7, 0, 3, 4, 2, 8, 1] prediction str:  if you want you\n",
      "22 loss:  0.8501377105712891 prediction:  tensor([9, 6, 4, 2, 8, 1, 4, 5, 7, 0, 3, 4, 2, 8, 1]) true Y:  [9, 6, 4, 2, 8, 1, 4, 5, 7, 0, 3, 4, 2, 8, 1] prediction str:  if you want you\n",
      "23 loss:  0.8455324172973633 prediction:  tensor([9, 6, 4, 2, 8, 1, 4, 5, 7, 0, 3, 4, 2, 8, 1]) true Y:  [9, 6, 4, 2, 8, 1, 4, 5, 7, 0, 3, 4, 2, 8, 1] prediction str:  if you want you\n",
      "24 loss:  0.8417329788208008 prediction:  tensor([9, 6, 4, 2, 8, 1, 4, 5, 7, 0, 3, 4, 2, 8, 1]) true Y:  [9, 6, 4, 2, 8, 1, 4, 5, 7, 0, 3, 4, 2, 8, 1] prediction str:  if you want you\n",
      "25 loss:  0.8388078808784485 prediction:  tensor([9, 6, 4, 2, 8, 1, 4, 5, 7, 0, 3, 4, 2, 8, 1]) true Y:  [9, 6, 4, 2, 8, 1, 4, 5, 7, 0, 3, 4, 2, 8, 1] prediction str:  if you want you\n",
      "26 loss:  0.8361431956291199 prediction:  tensor([9, 6, 4, 2, 8, 1, 4, 5, 7, 0, 3, 4, 2, 8, 1]) true Y:  [9, 6, 4, 2, 8, 1, 4, 5, 7, 0, 3, 4, 2, 8, 1] prediction str:  if you want you\n",
      "27 loss:  0.8336588144302368 prediction:  tensor([9, 6, 4, 2, 8, 1, 4, 5, 7, 0, 3, 4, 2, 8, 1]) true Y:  [9, 6, 4, 2, 8, 1, 4, 5, 7, 0, 3, 4, 2, 8, 1] prediction str:  if you want you\n",
      "28 loss:  0.8312185406684875 prediction:  tensor([9, 6, 4, 2, 8, 1, 4, 5, 7, 0, 3, 4, 2, 8, 1]) true Y:  [9, 6, 4, 2, 8, 1, 4, 5, 7, 0, 3, 4, 2, 8, 1] prediction str:  if you want you\n",
      "29 loss:  0.8290408849716187 prediction:  tensor([9, 6, 4, 2, 8, 1, 4, 5, 7, 0, 3, 4, 2, 8, 1]) true Y:  [9, 6, 4, 2, 8, 1, 4, 5, 7, 0, 3, 4, 2, 8, 1] prediction str:  if you want you\n",
      "30 loss:  0.8273841142654419 prediction:  tensor([9, 6, 4, 2, 8, 1, 4, 5, 7, 0, 3, 4, 2, 8, 1]) true Y:  [9, 6, 4, 2, 8, 1, 4, 5, 7, 0, 3, 4, 2, 8, 1] prediction str:  if you want you\n",
      "31 loss:  0.8260536193847656 prediction:  tensor([9, 6, 4, 2, 8, 1, 4, 5, 7, 0, 3, 4, 2, 8, 1]) true Y:  [9, 6, 4, 2, 8, 1, 4, 5, 7, 0, 3, 4, 2, 8, 1] prediction str:  if you want you\n",
      "32 loss:  0.8248810172080994 prediction:  tensor([9, 6, 4, 2, 8, 1, 4, 5, 7, 0, 3, 4, 2, 8, 1]) true Y:  [9, 6, 4, 2, 8, 1, 4, 5, 7, 0, 3, 4, 2, 8, 1] prediction str:  if you want you\n",
      "33 loss:  0.8238154649734497 prediction:  tensor([9, 6, 4, 2, 8, 1, 4, 5, 7, 0, 3, 4, 2, 8, 1]) true Y:  [9, 6, 4, 2, 8, 1, 4, 5, 7, 0, 3, 4, 2, 8, 1] prediction str:  if you want you\n",
      "34 loss:  0.8228111863136292 prediction:  tensor([9, 6, 4, 2, 8, 1, 4, 5, 7, 0, 3, 4, 2, 8, 1]) true Y:  [9, 6, 4, 2, 8, 1, 4, 5, 7, 0, 3, 4, 2, 8, 1] prediction str:  if you want you\n",
      "35 loss:  0.8218334317207336 prediction:  tensor([9, 6, 4, 2, 8, 1, 4, 5, 7, 0, 3, 4, 2, 8, 1]) true Y:  [9, 6, 4, 2, 8, 1, 4, 5, 7, 0, 3, 4, 2, 8, 1] prediction str:  if you want you\n",
      "36 loss:  0.8209196329116821 prediction:  tensor([9, 6, 4, 2, 8, 1, 4, 5, 7, 0, 3, 4, 2, 8, 1]) true Y:  [9, 6, 4, 2, 8, 1, 4, 5, 7, 0, 3, 4, 2, 8, 1] prediction str:  if you want you\n",
      "37 loss:  0.8200945258140564 prediction:  tensor([9, 6, 4, 2, 8, 1, 4, 5, 7, 0, 3, 4, 2, 8, 1]) true Y:  [9, 6, 4, 2, 8, 1, 4, 5, 7, 0, 3, 4, 2, 8, 1] prediction str:  if you want you\n",
      "38 loss:  0.8193425536155701 prediction:  tensor([9, 6, 4, 2, 8, 1, 4, 5, 7, 0, 3, 4, 2, 8, 1]) true Y:  [9, 6, 4, 2, 8, 1, 4, 5, 7, 0, 3, 4, 2, 8, 1] prediction str:  if you want you\n",
      "39 loss:  0.8186771273612976 prediction:  tensor([9, 6, 4, 2, 8, 1, 4, 5, 7, 0, 3, 4, 2, 8, 1]) true Y:  [9, 6, 4, 2, 8, 1, 4, 5, 7, 0, 3, 4, 2, 8, 1] prediction str:  if you want you\n",
      "40 loss:  0.8180983066558838 prediction:  tensor([9, 6, 4, 2, 8, 1, 4, 5, 7, 0, 3, 4, 2, 8, 1]) true Y:  [9, 6, 4, 2, 8, 1, 4, 5, 7, 0, 3, 4, 2, 8, 1] prediction str:  if you want you\n",
      "41 loss:  0.8175798058509827 prediction:  tensor([9, 6, 4, 2, 8, 1, 4, 5, 7, 0, 3, 4, 2, 8, 1]) true Y:  [9, 6, 4, 2, 8, 1, 4, 5, 7, 0, 3, 4, 2, 8, 1] prediction str:  if you want you\n",
      "42 loss:  0.8171259760856628 prediction:  tensor([9, 6, 4, 2, 8, 1, 4, 5, 7, 0, 3, 4, 2, 8, 1]) true Y:  [9, 6, 4, 2, 8, 1, 4, 5, 7, 0, 3, 4, 2, 8, 1] prediction str:  if you want you\n",
      "43 loss:  0.8167034983634949 prediction:  tensor([9, 6, 4, 2, 8, 1, 4, 5, 7, 0, 3, 4, 2, 8, 1]) true Y:  [9, 6, 4, 2, 8, 1, 4, 5, 7, 0, 3, 4, 2, 8, 1] prediction str:  if you want you\n",
      "44 loss:  0.816293478012085 prediction:  tensor([9, 6, 4, 2, 8, 1, 4, 5, 7, 0, 3, 4, 2, 8, 1]) true Y:  [9, 6, 4, 2, 8, 1, 4, 5, 7, 0, 3, 4, 2, 8, 1] prediction str:  if you want you\n",
      "45 loss:  0.8159042596817017 prediction:  tensor([9, 6, 4, 2, 8, 1, 4, 5, 7, 0, 3, 4, 2, 8, 1]) true Y:  [9, 6, 4, 2, 8, 1, 4, 5, 7, 0, 3, 4, 2, 8, 1] prediction str:  if you want you\n",
      "46 loss:  0.8155229091644287 prediction:  tensor([9, 6, 4, 2, 8, 1, 4, 5, 7, 0, 3, 4, 2, 8, 1]) true Y:  [9, 6, 4, 2, 8, 1, 4, 5, 7, 0, 3, 4, 2, 8, 1] prediction str:  if you want you\n",
      "47 loss:  0.8151766061782837 prediction:  tensor([9, 6, 4, 2, 8, 1, 4, 5, 7, 0, 3, 4, 2, 8, 1]) true Y:  [9, 6, 4, 2, 8, 1, 4, 5, 7, 0, 3, 4, 2, 8, 1] prediction str:  if you want you\n",
      "48 loss:  0.8148671984672546 prediction:  tensor([9, 6, 4, 2, 8, 1, 4, 5, 7, 0, 3, 4, 2, 8, 1]) true Y:  [9, 6, 4, 2, 8, 1, 4, 5, 7, 0, 3, 4, 2, 8, 1] prediction str:  if you want you\n",
      "49 loss:  0.8145929574966431 prediction:  tensor([9, 6, 4, 2, 8, 1, 4, 5, 7, 0, 3, 4, 2, 8, 1]) true Y:  [9, 6, 4, 2, 8, 1, 4, 5, 7, 0, 3, 4, 2, 8, 1] prediction str:  if you want you\n"
     ]
    }
   ],
   "source": [
    "for i in range(50):\n",
    "    optimizer.zero_grad()\n",
    "    outputs, _status = rnn(X)\n",
    "    loss = criterion(outputs.view(-1,dic_size),Y)\n",
    "    loss.backward()\n",
    "    optimizer.step()\n",
    "\n",
    "    result = torch.max(outputs, dim=1)[1]\n",
    "    result_str = ''.join([char_set[c] for c in result])\n",
    "    print(i, \"loss: \", loss.item(), \"prediction: \", result, \"true Y: \", y_data, \"prediction str: \", result_str)"
   ]
  },
  {
   "cell_type": "markdown",
   "metadata": {},
   "source": [
    "8번째 부터 학습이 잘 진행된 것을 확인할 수 있다."
   ]
  },
  {
   "cell_type": "markdown",
   "metadata": {},
   "source": []
  }
 ],
 "metadata": {
  "kernelspec": {
   "display_name": "Python 3.9.12 ('base')",
   "language": "python",
   "name": "python3"
  },
  "language_info": {
   "codemirror_mode": {
    "name": "ipython",
    "version": 3
   },
   "file_extension": ".py",
   "mimetype": "text/x-python",
   "name": "python",
   "nbconvert_exporter": "python",
   "pygments_lexer": "ipython3",
   "version": "3.9.12"
  },
  "orig_nbformat": 4,
  "vscode": {
   "interpreter": {
    "hash": "a077222d77dfe082b8f1dd562ad70e458ac2ab76993a0b248ab0476e32e9e8dd"
   }
  }
 },
 "nbformat": 4,
 "nbformat_minor": 2
}
